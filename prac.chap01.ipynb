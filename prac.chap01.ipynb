{
 "cells": [
  {
   "cell_type": "code",
   "execution_count": 24,
   "id": "3bdb73af-8798-46cf-bfde-670bb59039d7",
   "metadata": {},
   "outputs": [
    {
     "name": "stdout",
     "output_type": "stream",
     "text": [
      "5\n"
     ]
    }
   ],
   "source": [
    "name = \"Fawad\"\n",
    "print(len(name))"
   ]
  },
  {
   "cell_type": "markdown",
   "id": "2f7dcc9d-6a61-48eb-9e75-1f36d375ef33",
   "metadata": {},
   "source": [
    "#split(): This method splits a string into a list of substrings based on a specified delimiter (whitespace by default)."
   ]
  },
  {
   "cell_type": "code",
   "execution_count": 28,
   "id": "3da188e5-dfcf-4349-ab88-928d56668e6d",
   "metadata": {},
   "outputs": [
    {
     "name": "stdout",
     "output_type": "stream",
     "text": [
      "['This', 'is', 'a', 'sample', 'sentence']\n"
     ]
    }
   ],
   "source": [
    "sentence = \"This is a sample sentence\"\n",
    "words = sentence.split()\n",
    "print(words)"
   ]
  },
  {
   "cell_type": "markdown",
   "id": "8497cd79-fa36-4eab-a78e-fe49fc6df81e",
   "metadata": {},
   "source": [
    "#strip(), lstrip(), rstrip(): These methods remove leading/trailing whitespace or specified characters from a string.\n"
   ]
  },
  {
   "cell_type": "code",
   "execution_count": 33,
   "id": "79e19f87-d983-4628-bda4-3c0dd1e158c9",
   "metadata": {},
   "outputs": [
    {
     "name": "stdout",
     "output_type": "stream",
     "text": [
      "Python\n"
     ]
    }
   ],
   "source": [
    "padded_string = \"  Python  \"\n",
    "stripped_string = padded_string.strip()\n",
    "print(stripped_string)"
   ]
  },
  {
   "cell_type": "markdown",
   "id": "3d6e3497-cbef-4d5b-b08b-6b8397948db4",
   "metadata": {},
   "source": [
    "#write a program to display a user entered name followed by Good Afternoon using input() function."
   ]
  },
  {
   "cell_type": "code",
   "execution_count": 1,
   "id": "84c2ca42-0f1e-4cc7-a33d-0eb1f660bc58",
   "metadata": {},
   "outputs": [
    {
     "name": "stdin",
     "output_type": "stream",
     "text": [
      "Enter Your Name  Fawad Ahmad\n"
     ]
    },
    {
     "name": "stdout",
     "output_type": "stream",
     "text": [
      "Good Afternoon Fawad Ahmad \n"
     ]
    }
   ],
   "source": [
    "name = input(\"Enter Your Name \" )\n",
    "print(f\"Good Afternoon {name} \")"
   ]
  },
  {
   "cell_type": "markdown",
   "id": "67c1fd84-16b1-4964-b8c5-6df0eff98e70",
   "metadata": {},
   "source": [
    "#Write a program to fill letter template given below with name and date"
   ]
  },
  {
   "cell_type": "code",
   "execution_count": 5,
   "id": "e031822e-cf5b-4e11-9d76-5e1c78c1df0d",
   "metadata": {},
   "outputs": [
    {
     "name": "stdout",
     "output_type": "stream",
     "text": [
      "Dear Fawad,\n",
      "Your are Selected!\n",
      "2/nov/2024 \n"
     ]
    }
   ],
   "source": [
    "letter = '''Dear </name/>,\n",
    "Your are Selected!\n",
    "</Date/> '''\n",
    "\n",
    "print(letter.replace(\"</name/>\" , \"Fawad\").replace(\"</Date/>\" , \"2/nov/2024\"))\n",
    "         "
   ]
  },
  {
   "cell_type": "markdown",
   "id": "91fe54c4-07a6-4cb8-bb42-cab719d44c9e",
   "metadata": {},
   "source": [
    "#write a program that detect double string from string"
   ]
  },
  {
   "cell_type": "code",
   "execution_count": 16,
   "id": "a9ca266d-854e-4d3f-b15d-04cb2382b511",
   "metadata": {},
   "outputs": [
    {
     "name": "stdout",
     "output_type": "stream",
     "text": [
      "Hello there!i am  Fawad  Ahmad\n",
      "16\n"
     ]
    }
   ],
   "source": [
    "string = \"Hello there!i am  Fawad  Ahmad\"\n",
    "print(string)\n",
    "print(string.find(\"  \"))"
   ]
  },
  {
   "cell_type": "markdown",
   "id": "3ae4ed69-163d-44fa-a1e5-7ce3b11c7f73",
   "metadata": {},
   "source": [
    "#Replace the double space from previous string with sinle quote"
   ]
  },
  {
   "cell_type": "code",
   "execution_count": 19,
   "id": "e918242c-c728-440f-93a0-829daea16c88",
   "metadata": {},
   "outputs": [
    {
     "name": "stdout",
     "output_type": "stream",
     "text": [
      "Hello there!i am Fawad Ahmad\n"
     ]
    }
   ],
   "source": [
    "string = \"Hello there!i am  Fawad  Ahmad\"\n",
    "\n",
    "print(string.replace(\"  \",\" \"))"
   ]
  },
  {
   "cell_type": "markdown",
   "id": "8b319c2f-efa2-40a3-98c4-c7319974c67a",
   "metadata": {},
   "source": [
    "#Write a program to format the following letter using escape sequence characters"
   ]
  },
  {
   "cell_type": "code",
   "execution_count": 23,
   "id": "46285518-fbc7-40f3-bf38-7917c925d46c",
   "metadata": {},
   "outputs": [
    {
     "name": "stdout",
     "output_type": "stream",
     "text": [
      "Dera! Fawad, This Python Practice you doing well, Thanks\n",
      "Dera! Fawad, \n",
      "\t This Python Practice you doing well, \n",
      "Thanks\n"
     ]
    }
   ],
   "source": [
    "letter = \"Dera! Fawad, This Python Practice you doing well, Thanks\" \n",
    "print(letter)\n",
    "\n",
    "letter = \"Dera! Fawad, \\n\\t This Python Practice you doing well, \\nThanks\" \n",
    "print(letter)"
   ]
  },
  {
   "cell_type": "code",
   "execution_count": null,
   "id": "04b5f9e9-601e-4af7-9094-05345cf2b5d0",
   "metadata": {},
   "outputs": [],
   "source": []
  }
 ],
 "metadata": {
  "kernelspec": {
   "display_name": "Python [conda env:base] *",
   "language": "python",
   "name": "conda-base-py"
  },
  "language_info": {
   "codemirror_mode": {
    "name": "ipython",
    "version": 3
   },
   "file_extension": ".py",
   "mimetype": "text/x-python",
   "name": "python",
   "nbconvert_exporter": "python",
   "pygments_lexer": "ipython3",
   "version": "3.13.5"
  }
 },
 "nbformat": 4,
 "nbformat_minor": 5
}
