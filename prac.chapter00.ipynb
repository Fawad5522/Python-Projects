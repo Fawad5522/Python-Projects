{
 "cells": [
  {
   "cell_type": "markdown",
   "id": "532778cc-8c1a-41d3-9101-76ae91d3114f",
   "metadata": {},
   "source": [
    "#Write a Program to add 2 int values"
   ]
  },
  {
   "cell_type": "code",
   "execution_count": 5,
   "id": "5dff9ff7-2bac-4ad4-b8b7-52fbf8d80dac",
   "metadata": {},
   "outputs": [
    {
     "name": "stdin",
     "output_type": "stream",
     "text": [
      "enter 1 2\n",
      "enter 2 4\n"
     ]
    },
    {
     "name": "stdout",
     "output_type": "stream",
     "text": [
      "6\n"
     ]
    }
   ],
   "source": [
    "a = int(input(\"enter 1st number :\" a))\n",
    "b = int(input(\"enter 2nd number \" b))\n",
    "c= a+b\n",
    "print(c)"
   ]
  },
  {
   "cell_type": "markdown",
   "id": "48b9bfb0-8f1f-40b4-9d40-66a56e8af088",
   "metadata": {},
   "source": [
    "#write a program to find reminder when number is divided by z"
   ]
  },
  {
   "cell_type": "code",
   "execution_count": 9,
   "id": "a8d182b2-de27-414b-9eb5-2a3cd1fbb6aa",
   "metadata": {},
   "outputs": [
    {
     "name": "stdin",
     "output_type": "stream",
     "text": [
      "enter 1st number :  43\n",
      "enter 2nd number :  5\n"
     ]
    },
    {
     "name": "stdout",
     "output_type": "stream",
     "text": [
      "Reminder is =  3\n"
     ]
    }
   ],
   "source": [
    "a = int(input(\"enter 1st number : \" ))\n",
    "z= int(input(\"enter 2nd number : \" ))\n",
    "c = a%z\n",
    "print(\"Reminder is = \" , c)"
   ]
  },
  {
   "cell_type": "markdown",
   "id": "3fe0cfc8-3372-4eb6-baca-1dab54e91d3c",
   "metadata": {},
   "source": [
    "#Check the type of variable assigned using input() function"
   ]
  },
  {
   "cell_type": "code",
   "execution_count": 15,
   "id": "7f0f60d9-e11d-466d-8302-a4c6776aa52f",
   "metadata": {},
   "outputs": [
    {
     "name": "stdin",
     "output_type": "stream",
     "text": [
      "Enter Any Number To Check Its Type :  3\n"
     ]
    },
    {
     "name": "stdout",
     "output_type": "stream",
     "text": [
      " type of  3  is  <class 'str'>\n"
     ]
    },
    {
     "name": "stdin",
     "output_type": "stream",
     "text": [
      "Enter Any Number To Check Its Type by changing datatype  :  2\n"
     ]
    },
    {
     "name": "stdout",
     "output_type": "stream",
     "text": [
      " type of  2  is  <class 'int'>\n"
     ]
    }
   ],
   "source": [
    "a = input(\"Enter Any Number To Check Its Type : \" )\n",
    "print(\" type of \" ,a ,\" is \" ,type(a))  #input() is str by nature but you can change its type\n",
    "\n",
    "a = input(\"Enter Any Number To Check Its Type by changing datatype  : \" )\n",
    "b = int(a)\n",
    "print(\" type of \" ,b ,\" is \" ,type(b))"
   ]
  },
  {
   "cell_type": "markdown",
   "id": "f3924590-efb3-4925-87c3-aab2ad0a316e",
   "metadata": {},
   "source": [
    "#Using comparison operator find out whether a is greater the b or not\n"
   ]
  },
  {
   "cell_type": "code",
   "execution_count": 19,
   "id": "9eaefe63-c7fd-4f4b-abf7-3dcb6ad541b0",
   "metadata": {},
   "outputs": [
    {
     "name": "stdin",
     "output_type": "stream",
     "text": [
      "Enter 1st Number  1\n",
      "Enter 2nd Number  5\n"
     ]
    },
    {
     "name": "stdout",
     "output_type": "stream",
     "text": [
      "False\n"
     ]
    }
   ],
   "source": [
    "a = int(input(\"Enter 1st Number \"))\n",
    "b = int(input(\"Enter 2nd Number \"))\n",
    "c = a > b\n",
    "print (c)"
   ]
  },
  {
   "cell_type": "markdown",
   "id": "4048265d-f8c6-4a14-8c86-6a0b4bcb989b",
   "metadata": {},
   "source": [
    "#write a program to find an avg of two numbers entered by user"
   ]
  },
  {
   "cell_type": "code",
   "execution_count": 21,
   "id": "ea1593b9-bdeb-4281-bc83-978b3d79647a",
   "metadata": {},
   "outputs": [
    {
     "name": "stdin",
     "output_type": "stream",
     "text": [
      "Enter 1st Number  23\n",
      "Enter 2nd Number  32\n"
     ]
    },
    {
     "name": "stdout",
     "output_type": "stream",
     "text": [
      "sum = :  55  Average = :  27.5\n"
     ]
    }
   ],
   "source": [
    "a = int(input(\"Enter 1st Number \"))\n",
    "b = int(input(\"Enter 2nd Number \"))\n",
    "sum = a+b\n",
    "avg = sum/2\n",
    "print (\"sum = : \" ,sum , \" Average = : \" ,avg) "
   ]
  },
  {
   "cell_type": "markdown",
   "id": "1664db16-6f62-43b2-88f8-e8e5e78e682f",
   "metadata": {},
   "source": [
    "#Find Square of the Number entered by User"
   ]
  },
  {
   "cell_type": "code",
   "execution_count": 25,
   "id": "cee44de8-44bd-47a5-9283-cb4f19fbf3b0",
   "metadata": {},
   "outputs": [
    {
     "name": "stdin",
     "output_type": "stream",
     "text": [
      " Enter Number To find its square  9\n"
     ]
    },
    {
     "name": "stdout",
     "output_type": "stream",
     "text": [
      "81\n"
     ]
    }
   ],
   "source": [
    "a = int(input(\" Enter Number To find its square \" ))\n",
    "b = a * a\n",
    "print(b)"
   ]
  },
  {
   "cell_type": "code",
   "execution_count": null,
   "id": "c7f6b60f-09d0-4d92-adfe-ffd751efda53",
   "metadata": {},
   "outputs": [],
   "source": []
  }
 ],
 "metadata": {
  "kernelspec": {
   "display_name": "Python [conda env:base] *",
   "language": "python",
   "name": "conda-base-py"
  },
  "language_info": {
   "codemirror_mode": {
    "name": "ipython",
    "version": 3
   },
   "file_extension": ".py",
   "mimetype": "text/x-python",
   "name": "python",
   "nbconvert_exporter": "python",
   "pygments_lexer": "ipython3",
   "version": "3.13.5"
  }
 },
 "nbformat": 4,
 "nbformat_minor": 5
}
