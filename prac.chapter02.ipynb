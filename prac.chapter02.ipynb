{
 "cells": [
  {
   "cell_type": "markdown",
   "id": "45a088a1-24a6-48ba-8469-5c057de34de7",
   "metadata": {},
   "source": [
    "#Statements "
   ]
  },
  {
   "cell_type": "code",
   "execution_count": 7,
   "id": "aa2ba2ec-0e52-4a32-a3b6-9ab3638d41bc",
   "metadata": {},
   "outputs": [
    {
     "name": "stdin",
     "output_type": "stream",
     "text": [
      "Enter Number To Check its Even or Odd 8\n"
     ]
    },
    {
     "name": "stdout",
     "output_type": "stream",
     "text": [
      "8  : is even \n"
     ]
    }
   ],
   "source": [
    "#Find The Number is Even or Odd\n",
    "num = int(input(\"Enter Number To Check its Even or Odd\"))\n",
    "check = num % 2\n",
    "if(check == 0):\n",
    "    print(num,\" : is even Number\")\n",
    "else:\n",
    "  print(num,\" : is odd Number\")"
   ]
  },
  {
   "cell_type": "code",
   "execution_count": 11,
   "id": "458a7ba4-23a0-41b4-bdda-356210324ad2",
   "metadata": {},
   "outputs": [
    {
     "name": "stdin",
     "output_type": "stream",
     "text": [
      "Enter Your Marks And GEt Your Grades Based On Your Marks 56\n"
     ]
    },
    {
     "name": "stdout",
     "output_type": "stream",
     "text": [
      "Grade : D\n"
     ]
    }
   ],
   "source": [
    "#Grades Program\n",
    "marks = int(input(\"Enter Your Marks And GEt Your Grades Based On Your Marks\"))\n",
    "if(marks > 90):\n",
    "    print(\"Grade : A+\")\n",
    "elif(marks > 80):\n",
    "    print(\"Grade : A\")\n",
    "elif(marks > 70):\n",
    "    print(\"Grade : B\")\n",
    "elif(marks > 60):\n",
    "    print(\"Grade : C\")\n",
    "elif(marks > 50):\n",
    "    print(\"Grade : D\")\n",
    "elif(marks > 40):\n",
    "    print(\"Grade : E\")\n",
    "else:\n",
    "    print(\"Grade : Fail\")"
   ]
  },
  {
   "cell_type": "markdown",
   "id": "07ae999e-1652-451b-b6a6-34b2ed43e382",
   "metadata": {},
   "source": [
    "#Loops"
   ]
  },
  {
   "cell_type": "markdown",
   "id": "3743d94b-f317-4d79-9e0a-1c3e70ae7cff",
   "metadata": {},
   "source": [
    "#Print the table of Any using a for loop"
   ]
  },
  {
   "cell_type": "code",
   "execution_count": 24,
   "id": "2051c0e9-2cf0-4ca0-a1ec-45ac8aa4d9b8",
   "metadata": {},
   "outputs": [
    {
     "name": "stdin",
     "output_type": "stream",
     "text": [
      "Enter Any Number To Find it Table 3\n"
     ]
    },
    {
     "name": "stdout",
     "output_type": "stream",
     "text": [
      "3 * 0 == 0\n",
      "3 * 1 == 3\n",
      "3 * 2 == 6\n",
      "3 * 3 == 9\n",
      "3 * 4 == 12\n",
      "3 * 5 == 15\n",
      "3 * 6 == 18\n",
      "3 * 7 == 21\n",
      "3 * 8 == 24\n",
      "3 * 9 == 27\n",
      "3 * 10 == 30\n"
     ]
    }
   ],
   "source": [
    "table = int(input(\"Enter Any Number To Find it Table\"))\n",
    "for i in range(11):\n",
    "    print(f\"{table} * {i} == {table * i}\")"
   ]
  },
  {
   "cell_type": "markdown",
   "id": "61492b16-99de-45aa-8284-2e5bd0905a3d",
   "metadata": {},
   "source": [
    "#Print even numbers from 2 to 10 using a while loop"
   ]
  },
  {
   "cell_type": "code",
   "execution_count": 38,
   "id": "31935e93-7f65-4450-b9b0-35c9ad8649ad",
   "metadata": {},
   "outputs": [
    {
     "name": "stdout",
     "output_type": "stream",
     "text": [
      "Even Number are :  2\n",
      "Even Number are :  4\n",
      "Even Number are :  6\n",
      "Even Number are :  8\n",
      "Even Number are :  10\n"
     ]
    }
   ],
   "source": [
    "counter = 2\n",
    "while counter <= 10 :\n",
    "    print(\"Even Number are : \", counter)\n",
    "    counter+= 2"
   ]
  },
  {
   "cell_type": "code",
   "execution_count": null,
   "id": "b4587ac5-3ed8-4271-ae46-f809c2ff9507",
   "metadata": {},
   "outputs": [],
   "source": []
  }
 ],
 "metadata": {
  "kernelspec": {
   "display_name": "Python [conda env:base] *",
   "language": "python",
   "name": "conda-base-py"
  },
  "language_info": {
   "codemirror_mode": {
    "name": "ipython",
    "version": 3
   },
   "file_extension": ".py",
   "mimetype": "text/x-python",
   "name": "python",
   "nbconvert_exporter": "python",
   "pygments_lexer": "ipython3",
   "version": "3.13.5"
  }
 },
 "nbformat": 4,
 "nbformat_minor": 5
}
